{
 "cells": [
  {
   "cell_type": "code",
   "execution_count": null,
   "metadata": {},
   "outputs": [],
   "source": []
  },
  {
   "cell_type": "code",
   "execution_count": 30,
   "metadata": {},
   "outputs": [
    {
     "name": "stdout",
     "output_type": "stream",
     "text": [
      "99.14285714285714\n",
      "99.14285714285714\n"
     ]
    }
   ],
   "source": [
    "import statistics\n",
    "a = [1,2,3,4,5,34,645]\n",
    "n = len(a)\n",
    "mean = sum(a)/n\n",
    "print(mean)\n",
    "print(statistics.mean(a))"
   ]
  },
  {
   "cell_type": "code",
   "execution_count": 31,
   "metadata": {},
   "outputs": [
    {
     "name": "stdout",
     "output_type": "stream",
     "text": [
      "3\n",
      "3\n"
     ]
    }
   ],
   "source": [
    "b = [1, 2, 3, 4, 5]\n",
    "n = len(b)\n",
    "b.sort()\n",
    "  \n",
    "if n % 2 == 0:\n",
    "    median1 = b[n//2]\n",
    "    median2 = b[n//2 - 1]\n",
    "    median = (median1 + median2)/2\n",
    "else:\n",
    "    median = b[n//2]\n",
    "print(median)\n",
    "print(statistics.median(b))"
   ]
  },
  {
   "cell_type": "code",
   "execution_count": 34,
   "metadata": {},
   "outputs": [
    {
     "name": "stdout",
     "output_type": "stream",
     "text": [
      "[2, 3]\n",
      "2\n",
      "[2, 3]\n"
     ]
    }
   ],
   "source": [
    "from collections import Counter\n",
    "def my_mode(sample):\n",
    "    c = Counter(sample)\n",
    "#     for k,v in c.items():\n",
    "#         if v == c.most_common(1)[0][1]:\n",
    "#             return k\n",
    "    return [k for k, v in c.items() if v == c.most_common(1)[0][1]]\n",
    "c = [1,2,2,3,3,4,5]\n",
    "mode = my_mode(c)\n",
    "print(mode)\n",
    "print(statistics.mode(c))\n",
    "print(statistics.multimode(c))"
   ]
  },
  {
   "cell_type": "code",
   "execution_count": 53,
   "metadata": {},
   "outputs": [
    {
     "name": "stdout",
     "output_type": "stream",
     "text": [
      "441.70000000000005\n",
      "441.7\n",
      "21.016660058153864\n",
      "21.016660058153864\n"
     ]
    }
   ],
   "source": [
    "d = [12,22,43,24,65]\n",
    "avg = 0\n",
    "d_mean = statistics.mean(d)\n",
    "for i in d:\n",
    "    sum =  (i-d_mean)**2\n",
    "    avg = avg + sum\n",
    "#     print(sum) \n",
    "variance = avg/(len(d)-1)\n",
    "print(variance)\n",
    "print(statistics.variance(d))\n",
    "std_dev = variance**(1/2)\n",
    "print(std_dev)\n",
    "print(statistics.stdev(d))"
   ]
  },
  {
   "cell_type": "code",
   "execution_count": null,
   "metadata": {},
   "outputs": [],
   "source": []
  }
 ],
 "metadata": {
  "kernelspec": {
   "display_name": "Python 3",
   "language": "python",
   "name": "python3"
  },
  "language_info": {
   "codemirror_mode": {
    "name": "ipython",
    "version": 3
   },
   "file_extension": ".py",
   "mimetype": "text/x-python",
   "name": "python",
   "nbconvert_exporter": "python",
   "pygments_lexer": "ipython3",
   "version": "3.8.10"
  }
 },
 "nbformat": 4,
 "nbformat_minor": 4
}
