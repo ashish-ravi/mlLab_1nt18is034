{
 "cells": [
  {
   "cell_type": "code",
   "execution_count": 6,
   "metadata": {},
   "outputs": [
    {
     "name": "stdout",
     "output_type": "stream",
     "text": [
      "99.14285714285714\n",
      "99.14285714285714\n"
     ]
    }
   ],
   "source": [
    "#mean\n",
    "import statistics\n",
    "a = [1,2,3,4,5,34,645]\n",
    "n = len(a)\n",
    "mean = sum(a)/n\n",
    "print(mean)\n",
    "print(statistics.mean(a))"
   ]
  },
  {
   "cell_type": "code",
   "execution_count": 7,
   "metadata": {},
   "outputs": [
    {
     "name": "stdout",
     "output_type": "stream",
     "text": [
      "3\n",
      "3\n"
     ]
    }
   ],
   "source": [
    "#median\n",
    "b = [1, 2, 3, 4, 5]\n",
    "n = len(b)\n",
    "b.sort()\n",
    "  \n",
    "if n % 2 == 0:\n",
    "    median1 = b[n//2]\n",
    "    median2 = b[n//2 - 1]\n",
    "    median = (median1 + median2)/2\n",
    "else:\n",
    "    median = b[n//2]\n",
    "print(median)\n",
    "print(statistics.median(b))"
   ]
  },
  {
   "cell_type": "code",
   "execution_count": 8,
   "metadata": {},
   "outputs": [
    {
     "name": "stdout",
     "output_type": "stream",
     "text": [
      "[2, 3]\n",
      "2\n",
      "[2, 3]\n"
     ]
    }
   ],
   "source": [
    "#mode\n",
    "from collections import Counter\n",
    "def my_mode(sample):\n",
    "    c = Counter(sample)\n",
    "#     for k,v in c.items():\n",
    "#         if v == c.most_common(1)[0][1]:\n",
    "#             return k\n",
    "    return [k for k, v in c.items() if v == c.most_common(1)[0][1]]\n",
    "c = [1,2,2,3,3,4,5]\n",
    "mode = my_mode(c)\n",
    "print(mode)\n",
    "print(statistics.mode(c))\n",
    "print(statistics.multimode(c))"
   ]
  },
  {
   "cell_type": "code",
   "execution_count": 9,
   "metadata": {},
   "outputs": [
    {
     "name": "stdout",
     "output_type": "stream",
     "text": [
      "441.70000000000005\n",
      "441.7\n",
      "21.016660058153864\n",
      "21.016660058153864\n"
     ]
    }
   ],
   "source": [
    "#std-dev and variance\n",
    "d = [12,22,43,24,65]\n",
    "avg = 0\n",
    "d_mean = statistics.mean(d)\n",
    "for i in d:\n",
    "    sum =  (i-d_mean)**2\n",
    "    avg = avg + sum\n",
    "#     print(sum) \n",
    "variance = avg/(len(d)-1)\n",
    "print(variance)\n",
    "print(statistics.variance(d))\n",
    "std_dev = variance**(1/2)\n",
    "print(std_dev)\n",
    "print(statistics.stdev(d))"
   ]
  },
  {
   "cell_type": "code",
   "execution_count": 16,
   "metadata": {},
   "outputs": [
    {
     "name": "stdout",
     "output_type": "stream",
     "text": [
      "[0.0, 0.0015806111696522655, 0.631190727081138, 0.038461538461538464, 1.0, 0.13066385669125394, 0.012118018967334035]\n",
      "0.25914496462441666\n"
     ]
    }
   ],
   "source": [
    "#Normalization\n",
    "\n",
    "\n",
    "x = [2,5,1200,75,1900,250,25]\n",
    "min(x)\n",
    "y = []\n",
    "for i in x:\n",
    "    y.append((i-min(x))/(max(x)-min(x)))\n",
    "print(y)\n",
    "print(statistics.mean(y))\n",
    "\n"
   ]
  },
  {
   "cell_type": "code",
   "execution_count": 42,
   "metadata": {
    "scrolled": true
   },
   "outputs": [
    {
     "name": "stdout",
     "output_type": "stream",
     "text": [
      "Normalizer()\n",
      "[[0.8 0.2 0.4 0.4]\n",
      " [0.1 0.3 0.9 0.3]\n",
      " [0.5 0.7 0.5 0.1]]\n",
      "StandardScaler()\n",
      "[[ 0.39223227 -1.06904497 -1.16247639  0.        ]\n",
      " [-1.37281295 -0.26726124  1.27872403  1.22474487]\n",
      " [ 0.98058068  1.33630621 -0.11624764 -1.22474487]]\n",
      "[3.33333333 3.66666667 5.33333333 2.        ]\n"
     ]
    }
   ],
   "source": [
    "#Normalizer(transformer) - column wise normalization\n",
    "#StandardScaler(Scaler) - row wise normalization\n",
    "\n",
    "z = [[4, 1, 2, 2],\n",
    "     [1, 3, 9, 3],\n",
    "     [5, 7, 5, 1]]\n",
    "\n",
    "from sklearn.preprocessing import Normalizer\n",
    "transformer = Normalizer().fit(z)\n",
    "print(transformer)\n",
    "print(transformer.transform(z))\n",
    "\n",
    "\n",
    "from sklearn.preprocessing import StandardScaler\n",
    "scaler = StandardScaler().fit(z)\n",
    "print(scaler)\n",
    "print(scaler.transform(z))\n",
    "\n",
    "\n",
    "print(scaler.mean_)\n",
    "# print(scaler.transform([[2, 2]]))"
   ]
  },
  {
   "cell_type": "code",
   "execution_count": 48,
   "metadata": {},
   "outputs": [
    {
     "name": "stdout",
     "output_type": "stream",
     "text": [
      "[-0.6522903812253827, -0.6483118456442811, 0.9364714941612161, -0.5554793487519089, 1.8647964630849385, -0.32339810652097833, -0.6217882751036033]\n",
      "3.172065784643304e-17\n",
      "0.9999999999999999\n"
     ]
    }
   ],
   "source": [
    "#Standardization - making mean=0 and stdev=1\n",
    "\n",
    "x = [2,5,1200,75,1900,250,25]\n",
    "x_mean = statistics.mean(x)\n",
    "x_stddev = statistics.stdev(x)\n",
    "std = []\n",
    "for i in x:\n",
    "    std.append((i-x_mean)/(x_stddev))\n",
    "print(std)\n",
    "\n",
    "print(statistics.mean(std))\n",
    "print(statistics.stdev(std))"
   ]
  },
  {
   "cell_type": "code",
   "execution_count": null,
   "metadata": {},
   "outputs": [],
   "source": []
  }
 ],
 "metadata": {
  "kernelspec": {
   "display_name": "Python 3",
   "language": "python",
   "name": "python3"
  },
  "language_info": {
   "codemirror_mode": {
    "name": "ipython",
    "version": 3
   },
   "file_extension": ".py",
   "mimetype": "text/x-python",
   "name": "python",
   "nbconvert_exporter": "python",
   "pygments_lexer": "ipython3",
   "version": "3.8.10"
  }
 },
 "nbformat": 4,
 "nbformat_minor": 4
}
